# 1. Install and Import Required Libraries
!pip install pdfplumber python-dateutil pandas -q
import pdfplumber
import pandas as pd
import re
from dateutil import parser
from google.colab import files

# 2. Upload PDF
uploaded = files.upload()
pdf_path = next(iter(uploaded))
print(f"Processing: {pdf_path}")

# 3. Extract Transactions
def extract_transactions(pdf_path):
    transactions = []
    with pdfplumber.open(pdf_path) as pdf:
        for page in pdf.pages:
            text = page.extract_text()
            if text:
                for line in text.split('\n'):
                    match = re.match(r"(\d{2}/\d{2}/\d{4})\s+(.+?)\s+(-?\d+\.\d{2})", line)
                    if match:
                        date, desc, amount = match.groups()
                        transactions.append({
                            'date': parser.parse(date),
                            'description': desc.strip(),
                            'amount': float(amount)
                        })
    return pd.DataFrame(transactions)

df = extract_transactions(pdf_path)
print("\nFirst 5 transactions:")
print(df.head())

# 4. Identify Subscriptions
def identify_subscriptions(df):
    df['month'] = df['date'].dt.to_period('M')
    return df.groupby('description').filter(lambda x: x['month'].nunique() > 1)

subscriptions = identify_subscriptions(df)
print("\nPotential subscriptions found:")
print(subscriptions)

# 5. Save Results
subscriptions.to_csv('subscriptions.csv', index=False)
files.download('subscriptions.csv')
print("\nResults saved to subscriptions.csv")
